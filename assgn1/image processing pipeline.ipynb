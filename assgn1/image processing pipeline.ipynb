{
 "cells": [
  {
   "cell_type": "code",
   "execution_count": null,
   "metadata": {},
   "outputs": [],
   "source": [
    "import matplotlib.pyplot as plt\n",
    "import matplotlib\n",
    "import numpy as np\n",
    "import cv2\n",
    "from scipy import interpolate\n",
    "\n",
    "def showImg(argc):\n",
    "    f, axs = plt.subplots(1, 1, )\n",
    "    axs.imshow(argc)\n",
    "    axs.axis('off')\n",
    "\n",
    "def getRaw(filename):\n",
    "    img = matplotlib.image.imread(filename)\n",
    "    return img"
   ]
  },
  {
   "cell_type": "code",
   "execution_count": null,
   "metadata": {},
   "outputs": [],
   "source": [
    "rawImg = getRaw('banana_slug.tiff')\n",
    "showImg(rawImg)"
   ]
  },
  {
   "cell_type": "code",
   "execution_count": null,
   "metadata": {},
   "outputs": [],
   "source": [
    "#print('shape:', rawImg.shape)\n",
    "#print('dtype: ', rawImg.dtype)\n",
    "#print('size:', rawImg.size)\n",
    "(pic_h, pic_w) = rawImg.shape\n",
    "print('w: %d, h: %d\\n' % (pic_w, pic_h))\n",
    "# change raw format to float64\n",
    "\n",
    "print('raw image pixel max value: %d, min value: %d\\n' % (rawImg.max(), rawImg.min()))\n",
    "rawImg[rawImg<2047]=2047\n",
    "rawImg[rawImg>15000]=15000\n",
    "\n",
    "rawImgDouble = rawImg.astype(np.float64)\n",
    "#print('dtype: ', rawImgDouble.dtype)\n"
   ]
  },
  {
   "cell_type": "code",
   "execution_count": null,
   "metadata": {},
   "outputs": [],
   "source": [
    "showImg(rawImgDouble)"
   ]
  },
  {
   "cell_type": "code",
   "execution_count": null,
   "metadata": {},
   "outputs": [],
   "source": [
    "# map pixel value to [0.0...1.0]\n",
    "def linearizationImg(img):\n",
    "    imgArray = img.flatten()\n",
    "    #print(imgArray)\n",
    "    imgArray = (imgArray - 2047) / (15000 - 2047)\n",
    "    #print(imgArray)\n",
    "    #showImg(imgArray.reshape(pic_h, pic_w))\n",
    "    #print(imgArray.reshape(pic_h, pic_w))\n",
    "    return imgArray.reshape(pic_h, pic_w)\n",
    "    "
   ]
  },
  {
   "cell_type": "code",
   "execution_count": null,
   "metadata": {},
   "outputs": [],
   "source": [
    "linearImg = linearizationImg(rawImgDouble)\n",
    "showImg(linearImg)"
   ]
  },
  {
   "cell_type": "code",
   "execution_count": null,
   "metadata": {},
   "outputs": [],
   "source": [
    "# raw image rggb\n",
    "def doGrayAWB(img):\n",
    "    raw_r = img[0::2, 0::2]\n",
    "    raw_gr = img[1::2, 0::2]\n",
    "    raw_gb = img[0::2, 1::2]\n",
    "    raw_b = img[1::2, 1::2]\n",
    "    avg_r = np.mean(raw_r)\n",
    "    avg_g = np.mean([raw_gr, raw_gb])\n",
    "    avg_b = np.mean(raw_b)\n",
    "    \n",
    "    img[0::2, 0::2] = img[0::2, 0::2] * avg_g / avg_r\n",
    "    img[1::2, 1::2] = img[1::2, 1::2] * avg_g / avg_b\n",
    "    \n",
    "    img[img>1.0] = 1.0\n",
    "    \n",
    "    #showImg(cv2.merge([img[1::2, 1::2], img[0::2, 1::2], img[0::2, 0::2]]))\n",
    "    #img_gray = cv2.merge([img[0::2, 0::2], img[0::2, 1::2], img[1::2, 1::2]])\n",
    "    #cv2.imwrite(\"./gray.jpg\", img_gray)\n",
    "    showImg(cv2.merge([img[0::2, 0::2], img[0::2, 1::2], img[1::2, 1::2]]))\n",
    "    \n",
    "    return img"
   ]
  },
  {
   "cell_type": "code",
   "execution_count": null,
   "metadata": {
    "scrolled": true
   },
   "outputs": [],
   "source": [
    "awbImg = doGrayAWB(linearImg)"
   ]
  },
  {
   "cell_type": "code",
   "execution_count": null,
   "metadata": {},
   "outputs": [],
   "source": [
    "def demosaicAlgo(img):\n",
    "    x = np.arange(0, pic_w)\n",
    "    y = np.arange(0, pic_h)\n",
    "    x1 = np.arange(0, pic_w, 2)\n",
    "    y1 = np.arange(0, pic_h, 2)\n",
    "    interpolate_func_r = interpolate.interp2d(x1, y1, img[0::2, 0::2])\n",
    "    interpolate_func_g = interpolate.interp2d(x1, y1, (img[1::2, 0::2] + img[0::2, 1::2]) / 2)\n",
    "    interpolate_func_b = interpolate.interp2d(x1, y1, img[1::2, 1::2])\n",
    "    \n",
    "    #showImg(cv2.merge([interpolate_func_r(x, y), interpolate_func_g(x, y), interpolate_func_b(x, y)]))\n",
    "    \n",
    "    return cv2.merge([interpolate_func_b(x, y), interpolate_func_g(x, y), interpolate_func_r(x, y)])"
   ]
  },
  {
   "cell_type": "code",
   "execution_count": null,
   "metadata": {},
   "outputs": [],
   "source": [
    "rgbImg = demosaicAlgo(awbImg)\n",
    "\n",
    "rgbImg[rgbImg > 1.0] = 1.0\n",
    "K = (15000-2047) / 255\n",
    "#print(rgbImg*(15000-2047)/K)\n",
    "rgbImgInt = (rgbImg*((15000-2047) / K)*3.5).astype(np.int)\n",
    "cv2.imwrite(\"./result_demosaic.jpg\", rgbImgInt)"
   ]
  },
  {
   "cell_type": "code",
   "execution_count": null,
   "metadata": {},
   "outputs": [],
   "source": [
    "def gammaCorrection(imgIn):\n",
    "    gamma_ratio = 2.2\n",
    "    \n",
    "    img = imgIn.copy()\n",
    "    isDarkPixel=imgIn<=0.0031308\n",
    "    isBrightPixel=np.logical_not(isDarkPixel)\n",
    "    img[isDarkPixel] = 12.92 * img[isDarkPixel]\n",
    "    img[isBrightPixel] = (1 + 0.055) * (img[isBrightPixel]) ** (1 / gamma_ratio) - 0.055\n",
    "    img = img * 255\n",
    "    img = np.minimum(img, 255)\n",
    "    return img\n"
   ]
  },
  {
   "cell_type": "code",
   "execution_count": null,
   "metadata": {},
   "outputs": [],
   "source": [
    "gammaImg = gammaCorrection(rgbImg*2.0)\n",
    "gammaImg = np.minimum(gammaImg, 255)\n",
    "#showImg(gammaImg)\n",
    "gammaImg = np.uint8(gammaImg)\n",
    "cv2.imwrite(\"./result.jpg\", gammaImg)"
   ]
  }
 ],
 "metadata": {
  "kernelspec": {
   "display_name": "Python 3",
   "language": "python",
   "name": "python3"
  },
  "language_info": {
   "codemirror_mode": {
    "name": "ipython",
    "version": 3
   },
   "file_extension": ".py",
   "mimetype": "text/x-python",
   "name": "python",
   "nbconvert_exporter": "python",
   "pygments_lexer": "ipython3",
   "version": "3.6.6"
  }
 },
 "nbformat": 4,
 "nbformat_minor": 2
}
